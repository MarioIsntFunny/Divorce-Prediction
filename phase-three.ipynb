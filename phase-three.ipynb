{
 "cells": [
  {
   "cell_type": "markdown",
   "metadata": {},
   "source": [
    "# __Final Project Phase Three__ \n",
    "##  Mario Gonzalez, Jae Heon Kim, Johnathan Leach\n",
    "## 3/31/2024"
   ]
  },
  {
   "cell_type": "markdown",
   "metadata": {},
   "source": [
    "# Imports"
   ]
  },
  {
   "cell_type": "code",
   "execution_count": 11,
   "metadata": {},
   "outputs": [],
   "source": [
    "import pandas as pd\n",
    "import numpy as np\n",
    "import matplotlib.pyplot as plt\n",
    "import seaborn as sns\n",
    "from sklearn.model_selection import train_test_split, GridSearchCV\n",
    "from sklearn.svm import SVC\n",
    "from sklearn.metrics import accuracy_score, classification_report\n",
    "from sklearn.ensemble import RandomForestClassifier\n",
    "from sklearn.linear_model import LogisticRegression\n"
   ]
  },
  {
   "cell_type": "markdown",
   "metadata": {},
   "source": [
    "# Data Prep"
   ]
  },
  {
   "cell_type": "code",
   "execution_count": 3,
   "metadata": {},
   "outputs": [],
   "source": [
    "# Loading the data\n",
    "fifty_question = pd.read_csv('divorce_data.csv', sep = ';')\n",
    "divorce_data = pd.read_csv('Marriage_Divorce_DB.csv')\n",
    "\n",
    "# Splitting the data\n",
    "X_train, X_test, y_train, y_test = train_test_split(fifty_question.drop('Divorce', axis=1), \n",
    "                                                    fifty_question['Divorce'],\n",
    "                                                    test_size = 0.20,\n",
    "                                                    random_state=24)"
   ]
  },
  {
   "cell_type": "markdown",
   "metadata": {},
   "source": [
    "# Task at Hand"
   ]
  },
  {
   "cell_type": "markdown",
   "metadata": {},
   "source": [
    "As of right now we are going to do __classification__ on the dataset with the 50 questions and do regression on the other dataset since the target is a divorce probability. This is because the 50 Questions Dataset provides a outcome of Divorced or Still married so we can classify either Married or Divorced in the end. However the other Marriage and Divorce dataset that we are forced to use because the other does not have enough entries ,(Instructed by TA to find a larger dataset), has similar questions but the target column is a divorce probability and not a divorced/married outcome. This means we will have to use Classification for one dataset and Regression for the other. This also implies that we will use accuracy as a metric for the classification and then MSE as a measure for the regression problem."
   ]
  },
  {
   "cell_type": "markdown",
   "metadata": {},
   "source": [
    "# Model 1: SVM Classification"
   ]
  },
  {
   "cell_type": "markdown",
   "metadata": {},
   "source": [
    "## Training"
   ]
  },
  {
   "cell_type": "code",
   "execution_count": 31,
   "metadata": {},
   "outputs": [
    {
     "data": {
      "text/html": [
       "<style>#sk-container-id-11 {color: black;}#sk-container-id-11 pre{padding: 0;}#sk-container-id-11 div.sk-toggleable {background-color: white;}#sk-container-id-11 label.sk-toggleable__label {cursor: pointer;display: block;width: 100%;margin-bottom: 0;padding: 0.3em;box-sizing: border-box;text-align: center;}#sk-container-id-11 label.sk-toggleable__label-arrow:before {content: \"▸\";float: left;margin-right: 0.25em;color: #696969;}#sk-container-id-11 label.sk-toggleable__label-arrow:hover:before {color: black;}#sk-container-id-11 div.sk-estimator:hover label.sk-toggleable__label-arrow:before {color: black;}#sk-container-id-11 div.sk-toggleable__content {max-height: 0;max-width: 0;overflow: hidden;text-align: left;background-color: #f0f8ff;}#sk-container-id-11 div.sk-toggleable__content pre {margin: 0.2em;color: black;border-radius: 0.25em;background-color: #f0f8ff;}#sk-container-id-11 input.sk-toggleable__control:checked~div.sk-toggleable__content {max-height: 200px;max-width: 100%;overflow: auto;}#sk-container-id-11 input.sk-toggleable__control:checked~label.sk-toggleable__label-arrow:before {content: \"▾\";}#sk-container-id-11 div.sk-estimator input.sk-toggleable__control:checked~label.sk-toggleable__label {background-color: #d4ebff;}#sk-container-id-11 div.sk-label input.sk-toggleable__control:checked~label.sk-toggleable__label {background-color: #d4ebff;}#sk-container-id-11 input.sk-hidden--visually {border: 0;clip: rect(1px 1px 1px 1px);clip: rect(1px, 1px, 1px, 1px);height: 1px;margin: -1px;overflow: hidden;padding: 0;position: absolute;width: 1px;}#sk-container-id-11 div.sk-estimator {font-family: monospace;background-color: #f0f8ff;border: 1px dotted black;border-radius: 0.25em;box-sizing: border-box;margin-bottom: 0.5em;}#sk-container-id-11 div.sk-estimator:hover {background-color: #d4ebff;}#sk-container-id-11 div.sk-parallel-item::after {content: \"\";width: 100%;border-bottom: 1px solid gray;flex-grow: 1;}#sk-container-id-11 div.sk-label:hover label.sk-toggleable__label {background-color: #d4ebff;}#sk-container-id-11 div.sk-serial::before {content: \"\";position: absolute;border-left: 1px solid gray;box-sizing: border-box;top: 0;bottom: 0;left: 50%;z-index: 0;}#sk-container-id-11 div.sk-serial {display: flex;flex-direction: column;align-items: center;background-color: white;padding-right: 0.2em;padding-left: 0.2em;position: relative;}#sk-container-id-11 div.sk-item {position: relative;z-index: 1;}#sk-container-id-11 div.sk-parallel {display: flex;align-items: stretch;justify-content: center;background-color: white;position: relative;}#sk-container-id-11 div.sk-item::before, #sk-container-id-11 div.sk-parallel-item::before {content: \"\";position: absolute;border-left: 1px solid gray;box-sizing: border-box;top: 0;bottom: 0;left: 50%;z-index: -1;}#sk-container-id-11 div.sk-parallel-item {display: flex;flex-direction: column;z-index: 1;position: relative;background-color: white;}#sk-container-id-11 div.sk-parallel-item:first-child::after {align-self: flex-end;width: 50%;}#sk-container-id-11 div.sk-parallel-item:last-child::after {align-self: flex-start;width: 50%;}#sk-container-id-11 div.sk-parallel-item:only-child::after {width: 0;}#sk-container-id-11 div.sk-dashed-wrapped {border: 1px dashed gray;margin: 0 0.4em 0.5em 0.4em;box-sizing: border-box;padding-bottom: 0.4em;background-color: white;}#sk-container-id-11 div.sk-label label {font-family: monospace;font-weight: bold;display: inline-block;line-height: 1.2em;}#sk-container-id-11 div.sk-label-container {text-align: center;}#sk-container-id-11 div.sk-container {/* jupyter's `normalize.less` sets `[hidden] { display: none; }` but bootstrap.min.css set `[hidden] { display: none !important; }` so we also need the `!important` here to be able to override the default hidden behavior on the sphinx rendered scikit-learn.org. See: https://github.com/scikit-learn/scikit-learn/issues/21755 */display: inline-block !important;position: relative;}#sk-container-id-11 div.sk-text-repr-fallback {display: none;}</style><div id=\"sk-container-id-11\" class=\"sk-top-container\"><div class=\"sk-text-repr-fallback\"><pre>SVC(random_state=24)</pre><b>In a Jupyter environment, please rerun this cell to show the HTML representation or trust the notebook. <br />On GitHub, the HTML representation is unable to render, please try loading this page with nbviewer.org.</b></div><div class=\"sk-container\" hidden><div class=\"sk-item\"><div class=\"sk-estimator sk-toggleable\"><input class=\"sk-toggleable__control sk-hidden--visually\" id=\"sk-estimator-id-11\" type=\"checkbox\" checked><label for=\"sk-estimator-id-11\" class=\"sk-toggleable__label sk-toggleable__label-arrow\">SVC</label><div class=\"sk-toggleable__content\"><pre>SVC(random_state=24)</pre></div></div></div></div></div>"
      ],
      "text/plain": [
       "SVC(random_state=24)"
      ]
     },
     "execution_count": 31,
     "metadata": {},
     "output_type": "execute_result"
    }
   ],
   "source": [
    "# Instantiate the Model, no hyperparameters\n",
    "svm = SVC(random_state=24)\n",
    "\n",
    "# Train the Model\n",
    "svm.fit(X_train, y_train)"
   ]
  },
  {
   "cell_type": "markdown",
   "metadata": {},
   "source": [
    "## Evaluation"
   ]
  },
  {
   "cell_type": "code",
   "execution_count": 37,
   "metadata": {},
   "outputs": [
    {
     "name": "stdout",
     "output_type": "stream",
     "text": [
      "Accuracy of the SVM model is  0.9706\n",
      "Classification Report: \n",
      "               precision    recall  f1-score   support\n",
      "\n",
      "           0     0.9500    1.0000    0.9744        19\n",
      "           1     1.0000    0.9333    0.9655        15\n",
      "\n",
      "    accuracy                         0.9706        34\n",
      "   macro avg     0.9750    0.9667    0.9699        34\n",
      "weighted avg     0.9721    0.9706    0.9705        34\n",
      "\n"
     ]
    }
   ],
   "source": [
    "# Getting the predictions\n",
    "y_pred_svm = svm.predict(X_test)\n",
    "\n",
    "# Checking the Results\n",
    "print(\"Accuracy of the SVM model is \", round(accuracy_score(y_test, y_pred_svm), 4))\n",
    "print(\"Classification Report: \\n\", classification_report(y_test, y_pred_svm, digits=4) )"
   ]
  },
  {
   "cell_type": "markdown",
   "metadata": {},
   "source": [
    "## Tuning\n",
    "\n",
    "We are currently tuning the following hyperparameters:\n",
    " - C\n",
    " - Gamma\n",
    " - Kernel"
   ]
  },
  {
   "cell_type": "code",
   "execution_count": 39,
   "metadata": {},
   "outputs": [
    {
     "name": "stdout",
     "output_type": "stream",
     "text": [
      "Best Parameters: {'C': 10, 'gamma': 0.01, 'kernel': 'rbf'}\n",
      "Best Score (Cross-validated accuracy): 0.9852\n",
      "Classification Report: \n",
      "               precision    recall  f1-score   support\n",
      "\n",
      "           0     0.9500    1.0000    0.9744        19\n",
      "           1     1.0000    0.9333    0.9655        15\n",
      "\n",
      "    accuracy                         0.9706        34\n",
      "   macro avg     0.9750    0.9667    0.9699        34\n",
      "weighted avg     0.9721    0.9706    0.9705        34\n",
      "\n"
     ]
    }
   ],
   "source": [
    "# Create our parameter grid with hyperparams to optimize \n",
    "param_grid = {\n",
    "    'C': [0.1, 1, 10],\n",
    "    'gamma': [0.1, 0.01, 0.001],\n",
    "    'kernel': ['linear', 'rbf']\n",
    "}\n",
    "\n",
    "# Instantiate GridSearchCV with the SVM model and parameter grid\n",
    "svm_grid_search = GridSearchCV(estimator=SVC(random_state=24), param_grid=param_grid, cv=5)\n",
    "\n",
    "# Fit GridSearchCV to the training data\n",
    "svm_grid_search.fit(X_train, y_train)\n",
    "\n",
    "# Get the best model and its predictions\n",
    "best_svm_model = svm_grid_search.best_estimator_\n",
    "y_pred_svm = best_svm_model.predict(X_test)\n",
    "\n",
    "# Get the best parameters and best score\n",
    "print(\"Best Parameters:\", svm_grid_search.best_params_)\n",
    "print(\"Best Score (Cross-validated accuracy):\", round(svm_grid_search.best_score_,4))\n",
    "\n",
    "\n",
    "print(\"Classification Report: \\n\", classification_report(y_test, y_pred_svm, digits=4) )"
   ]
  },
  {
   "cell_type": "markdown",
   "metadata": {},
   "source": [
    "# Model 2: Random Forest Classifier"
   ]
  },
  {
   "cell_type": "markdown",
   "metadata": {},
   "source": [
    "## Training"
   ]
  },
  {
   "cell_type": "code",
   "execution_count": 5,
   "metadata": {},
   "outputs": [
    {
     "name": "stdout",
     "output_type": "stream",
     "text": [
      "0.9705882352941176\n"
     ]
    }
   ],
   "source": [
    "random_forest = RandomForestClassifier(random_state=24)\n",
    "\n",
    "random_forest.fit(X_train, y_train)"
   ]
  },
  {
   "cell_type": "markdown",
   "metadata": {},
   "source": [
    "## Evaluation"
   ]
  },
  {
   "cell_type": "code",
   "execution_count": null,
   "metadata": {},
   "outputs": [],
   "source": [
    "y_pred_rf = random_forest.predict(X_test)\n",
    "\n",
    "print(classification_report(y_pred_rf, y_test))"
   ]
  },
  {
   "cell_type": "markdown",
   "metadata": {},
   "source": [
    "## Tuning\n",
    "\n",
    "We are currently tuning the following hyperparameters:\n",
    " - C\n",
    " - Gamma\n",
    " - Kernel"
   ]
  },
  {
   "cell_type": "code",
   "execution_count": 10,
   "metadata": {},
   "outputs": [
    {
     "name": "stdout",
     "output_type": "stream",
     "text": [
      "Best Parameters: {'max_depth': 3, 'max_leaf_nodes': 3, 'n_estimators': 100}\n",
      "Best Score (Cross-validated accuracy): 0.978\n",
      "Classification Report: \n",
      "               precision    recall  f1-score   support\n",
      "\n",
      "           0     0.9500    1.0000    0.9744        19\n",
      "           1     1.0000    0.9333    0.9655        15\n",
      "\n",
      "    accuracy                         0.9706        34\n",
      "   macro avg     0.9750    0.9667    0.9699        34\n",
      "weighted avg     0.9721    0.9706    0.9705        34\n",
      "\n"
     ]
    }
   ],
   "source": [
    "# Create our parameter grid with hyperparams to optimize \n",
    "param_grid = {\n",
    "    'n_estimators': [100,200,1000],\n",
    "    'max_depth': [3, 5, 7],\n",
    "    'max_leaf_nodes': [3,5,7]\n",
    "}\n",
    "\n",
    "# Instantiate GridSearchCV with the SVM model and parameter grid\n",
    "rf_grid_search = GridSearchCV(estimator=RandomForestClassifier(random_state=24), param_grid=param_grid, cv=5)\n",
    "\n",
    "# Fit GridSearchCV to the training data\n",
    "rf_grid_search.fit(X_train, y_train)\n",
    "\n",
    "# Get the best model and its predictions\n",
    "best_rf_model = rf_grid_search.best_estimator_\n",
    "y_pred_rf = best_rf_model.predict(X_test)\n",
    "\n",
    "# Get the best parameters and best score\n",
    "print(\"Best Parameters:\", rf_grid_search.best_params_)\n",
    "print(\"Best Score (Cross-validated accuracy):\", round(rf_grid_search.best_score_,4))\n",
    "print(\"Classification Report: \\n\", classification_report(y_test, y_pred_rf, digits=4) )"
   ]
  },
  {
   "cell_type": "markdown",
   "metadata": {},
   "source": [
    "# Model 3: Logistic Regression"
   ]
  },
  {
   "cell_type": "markdown",
   "metadata": {},
   "source": [
    "## Training"
   ]
  },
  {
   "cell_type": "code",
   "execution_count": null,
   "metadata": {},
   "outputs": [],
   "source": [
    "lr = LogisticRegression()\n",
    "\n",
    "lr.fit(X_train, y_train)"
   ]
  },
  {
   "cell_type": "markdown",
   "metadata": {},
   "source": [
    "## Evaluation"
   ]
  },
  {
   "cell_type": "code",
   "execution_count": null,
   "metadata": {},
   "outputs": [],
   "source": [
    "y_pred_lr = lr.predict(X_test)\n",
    "\n",
    "print(classification_report(y_test, y_pred_lr))"
   ]
  },
  {
   "cell_type": "markdown",
   "metadata": {},
   "source": [
    "## Tuning"
   ]
  },
  {
   "cell_type": "code",
   "execution_count": 15,
   "metadata": {},
   "outputs": [
    {
     "name": "stdout",
     "output_type": "stream",
     "text": [
      "Best Parameters: {'C': 1, 'penalty': 'l1', 'tol': 0.01}\n",
      "Best Score (Cross-validated accuracy): 0.978\n",
      "Classification Report: \n",
      "               precision    recall  f1-score   support\n",
      "\n",
      "           0     0.9500    1.0000    0.9744        19\n",
      "           1     1.0000    0.9333    0.9655        15\n",
      "\n",
      "    accuracy                         0.9706        34\n",
      "   macro avg     0.9750    0.9667    0.9699        34\n",
      "weighted avg     0.9721    0.9706    0.9705        34\n",
      "\n"
     ]
    }
   ],
   "source": [
    "# Create our parameter grid with hyperparams to optimize \n",
    "param_grid = {\n",
    "    'C': [1,10,20],\n",
    "    'tol': [1e-2, 1e-3, .01],\n",
    "    'penalty': ['l2', 'l1']\n",
    "}\n",
    "\n",
    "# Instantiate GridSearchCV with the SVM model and parameter grid\n",
    "lr_grid_search = GridSearchCV(estimator=LogisticRegression(solver='liblinear'), param_grid=param_grid, cv=5)\n",
    "\n",
    "# Fit GridSearchCV to the training data\n",
    "lr_grid_search.fit(X_train, y_train)\n",
    "\n",
    "# Get the best model and its predictions\n",
    "best_lr_model = rf_grid_search.best_estimator_\n",
    "y_pred_lr = best_rf_model.predict(X_test)\n",
    "\n",
    "# Get the best parameters and best score\n",
    "print(\"Best Parameters:\", lr_grid_search.best_params_)\n",
    "print(\"Best Score (Cross-validated accuracy):\", round(lr_grid_search.best_score_,4))\n",
    "print(\"Classification Report: \\n\", classification_report(y_test, y_pred_lr, digits=4) )"
   ]
  },
  {
   "cell_type": "code",
   "execution_count": 16,
   "metadata": {},
   "outputs": [
    {
     "ename": "NameError",
     "evalue": "name 'y_true' is not defined",
     "output_type": "error",
     "traceback": [
      "\u001b[1;31m---------------------------------------------------------------------------\u001b[0m",
      "\u001b[1;31mNameError\u001b[0m                                 Traceback (most recent call last)",
      "Cell \u001b[1;32mIn[16], line 5\u001b[0m\n\u001b[0;32m      2\u001b[0m fig, axes \u001b[38;5;241m=\u001b[39m plt\u001b[38;5;241m.\u001b[39msubplots(\u001b[38;5;241m1\u001b[39m, \u001b[38;5;241m3\u001b[39m, figsize\u001b[38;5;241m=\u001b[39m(\u001b[38;5;241m20\u001b[39m, \u001b[38;5;241m6\u001b[39m))\n\u001b[0;32m      4\u001b[0m \u001b[38;5;66;03m# Plot SVC classification report\u001b[39;00m\n\u001b[1;32m----> 5\u001b[0m sns\u001b[38;5;241m.\u001b[39mheatmap(pd\u001b[38;5;241m.\u001b[39mDataFrame(classification_report(\u001b[43my_true\u001b[49m, svc_predictions, output_dict\u001b[38;5;241m=\u001b[39m\u001b[38;5;28;01mTrue\u001b[39;00m))\u001b[38;5;241m.\u001b[39mT, ax\u001b[38;5;241m=\u001b[39maxes[\u001b[38;5;241m0\u001b[39m], annot\u001b[38;5;241m=\u001b[39m\u001b[38;5;28;01mTrue\u001b[39;00m, cmap\u001b[38;5;241m=\u001b[39m\u001b[38;5;124m\"\u001b[39m\u001b[38;5;124mYlGnBu\u001b[39m\u001b[38;5;124m\"\u001b[39m, cbar\u001b[38;5;241m=\u001b[39m\u001b[38;5;28;01mFalse\u001b[39;00m)\n\u001b[0;32m      6\u001b[0m axes[\u001b[38;5;241m0\u001b[39m]\u001b[38;5;241m.\u001b[39mset_title(\u001b[38;5;124m'\u001b[39m\u001b[38;5;124mSVC Classification Report\u001b[39m\u001b[38;5;124m'\u001b[39m)\n\u001b[0;32m      8\u001b[0m \u001b[38;5;66;03m# Plot Random Forest classification report\u001b[39;00m\n",
      "\u001b[1;31mNameError\u001b[0m: name 'y_true' is not defined"
     ]
    },
    {
     "data": {
      "image/png": "[encoded data removed]",
      "text/plain": [
       "<Figure size 2000x600 with 3 Axes>"
      ]
     },
     "metadata": {},
     "output_type": "display_data"
    }
   ],
   "source": [
    "# Create subplots\n",
    "fig, axes = plt.subplots(1, 3, figsize=(20, 6))\n",
    "\n",
    "# Plot SVC classification report\n",
    "sns.heatmap(pd.DataFrame(classification_report(y_true, svc_predictions, output_dict=True)).T, ax=axes[0], annot=True, cmap=\"YlGnBu\", cbar=False)\n",
    "axes[0].set_title('SVC Classification Report')\n",
    "\n",
    "# Plot Random Forest classification report\n",
    "sns.heatmap(pd.DataFrame(classification_report(y_true, rf_predictions, output_dict=True)).T, ax=axes[1], annot=True, cmap=\"YlGnBu\", cbar=False)\n",
    "axes[1].set_title('Random Forest Classification Report')\n",
    "\n",
    "# Plot Logistic Regression classification report\n",
    "sns.heatmap(pd.DataFrame(classification_report(y_true, lr_predictions, output_dict=True)).T, ax=axes[2], annot=True, cmap=\"YlGnBu\", cbar=False)\n",
    "axes[2].set_title('Logistic Regression Classification Report')\n",
    "\n",
    "plt.tight_layout()\n",
    "plt.show()"
   ]
  },
  {
   "cell_type": "code",
   "execution_count": null,
   "metadata": {},
   "outputs": [],
   "source": []
  }
 ],
 "metadata": {
  "kernelspec": {
   "display_name": "Python 3",
   "language": "python",
   "name": "python3"
  },
  "language_info": {
   "codemirror_mode": {
    "name": "ipython",
    "version": 3
   },
   "file_extension": ".py",
   "mimetype": "text/x-python",
   "name": "python",
   "nbconvert_exporter": "python",
   "pygments_lexer": "ipython3",
   "version": "3.11.9"
  }
 },
 "nbformat": 4,
 "nbformat_minor": 2
}
